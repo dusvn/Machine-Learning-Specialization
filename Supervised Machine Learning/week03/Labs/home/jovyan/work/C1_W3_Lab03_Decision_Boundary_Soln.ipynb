{
 "cells": [
  {
   "cell_type": "markdown",
   "id": "f1cc65d6",
   "metadata": {},
   "source": [
    "# Optional Lab: Logistic Regression, Decision Boundary\n"
   ]
  },
  {
   "cell_type": "markdown",
   "id": "86fe6af0",
   "metadata": {},
   "source": [
    "## Goals\n",
    "In this lab, you will:\n",
    "- Plot the decision boundary for a logistic regression model. This will give you a better sense of what the model is predicting.\n"
   ]
  },
  {
   "cell_type": "code",
   "execution_count": 2,
   "id": "6ee320a5",
   "metadata": {},
   "outputs": [],
   "source": [
    "import numpy as np\n",
    "%matplotlib widget\n",
    "import matplotlib.pyplot as plt\n",
    "from lab_utils_common import plot_data, sigmoid, draw_vthresh\n",
    "plt.style.use('./deeplearning.mplstyle')"
   ]
  },
  {
   "cell_type": "markdown",
   "id": "7867bf8d",
   "metadata": {},
   "source": [
    "## Dataset\n",
    "\n",
    "Let's suppose you have following training dataset\n",
    "- The input variable `X` is a numpy array which has 6 training examples, each with two features\n",
    "- The output variable `y` is also a numpy array with 6 examples, and `y` is either `0` or `1`"
   ]
  },
  {
   "cell_type": "code",
   "execution_count": 3,
   "id": "9baca38b",
   "metadata": {},
   "outputs": [],
   "source": [
    "X = np.array([[0.5, 1.5], [1,1], [1.5, 0.5], [3, 0.5], [2, 2], [1, 2.5]])\n",
    "y = np.array([0, 0, 0, 1, 1, 1]).reshape(-1,1) "
   ]
  },
  {
   "cell_type": "markdown",
   "id": "182b8eb5",
   "metadata": {},
   "source": [
    "### Plot data \n",
    "\n",
    "Let's use a helper function to plot this data. The data points with label $y=1$ are shown as red crosses, while the data points with label $y=0$ are shown as blue circles. "
   ]
  },
  {
   "cell_type": "code",
   "execution_count": 4,
   "id": "89a44af6",
   "metadata": {},
   "outputs": [
    {
     "data": {
      "application/vnd.jupyter.widget-view+json": {
       "model_id": "962c1b2f7193415ca05adeb6849d0865",
       "version_major": 2,
       "version_minor": 0
      },
      "image/png": "[encoded data removed]",
      "text/html": [
       "\n",
       "            <div style=\"display: inline-block;\">\n",
       "                <div class=\"jupyter-widgets widget-label\" style=\"text-align: center;\">\n",
       "                    Figure\n",
       "                </div>\n",
       "                <img src='data:image/png;base64,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' width=400.0/>\n",
       "            </div>\n",
       "        "
      ],
      "text/plain": [
       "Canvas(footer_visible=False, header_visible=False, toolbar=Toolbar(toolitems=[('Home', 'Reset original view', …"
      ]
     },
     "metadata": {},
     "output_type": "display_data"
    }
   ],
   "source": [
    "fig,ax = plt.subplots(1,1,figsize=(4,4))\n",
    "plot_data(X, y, ax)\n",
    "\n",
    "ax.axis([0, 4, 0, 3.5])\n",
    "# 0-4 on x axis \n",
    "# 0-3.5 on y axis \n",
    "ax.set_ylabel('$x_1$')\n",
    "ax.set_xlabel('$x_0$')\n",
    "plt.show()"
   ]
  },
  {
   "cell_type": "markdown",
   "id": "bdfd265a",
   "metadata": {},
   "source": [
    "## Logistic regression model\n",
    "\n",
    "\n",
    "* Suppose you'd like to train a logistic regression model on this data which has the form   \n",
    "\n",
    "  $f(x) = g(w_0x_0+w_1x_1 + b)$\n",
    "  \n",
    "  where $g(z) = \\frac{1}{1+e^{-z}}$, which is the sigmoid function\n",
    "\n",
    "\n",
    "* Let's say that you trained the model and get the parameters as $b = -3, w_0 = 1, w_1 = 1$. That is,\n",
    "\n",
    "  $f(x) = g(x_0+x_1-3)$\n",
    "\n",
    "  (You'll learn how to fit these parameters to the data further in the course)\n",
    "  \n",
    "  \n",
    "Let's try to understand what this trained model is predicting by plotting its decision boundary"
   ]
  },
  {
   "cell_type": "markdown",
   "id": "3251639a",
   "metadata": {},
   "source": [
    "### Refresher on logistic regression and decision boundary\n",
    "\n",
    "* Recall that for logistic regression, the model is represented as \n",
    "\n",
    "  $$f_{\\mathbf{w},b}(\\mathbf{x}^{(i)}) = g(\\mathbf{w} \\cdot \\mathbf{x}^{(i)} + b) \\tag{1}$$\n",
    "\n",
    "  where $g(z)$ is known as the sigmoid function and it maps all input values to values between 0 and 1:\n",
    "\n",
    "  $g(z) = \\frac{1}{1+e^{-z}}\\tag{2}$\n",
    "  and $\\mathbf{w} \\cdot \\mathbf{x}$ is the vector dot product:\n",
    "  \n",
    "  $$\\mathbf{w} \\cdot \\mathbf{x} = w_0 x_0 + w_1 x_1$$\n",
    "  \n",
    "  \n",
    " * We interpret the output of the model ($f_{\\mathbf{w},b}(x)$) as the probability that $y=1$ given $\\mathbf{x}$ and parameterized by $\\mathbf{w}$ and $b$.\n",
    "* Therefore, to get a final prediction ($y=0$ or $y=1$) from the logistic regression model, we can use the following heuristic -\n",
    "\n",
    "  if $f_{\\mathbf{w},b}(x) >= 0.5$, predict $y=1$\n",
    "  \n",
    "  if $f_{\\mathbf{w},b}(x) < 0.5$, predict $y=0$\n",
    "  \n",
    "  \n",
    "* Let's plot the sigmoid function to see where $g(z) >= 0.5$"
   ]
  },
  {
   "cell_type": "code",
   "execution_count": null,
   "id": "a73f3496",
   "metadata": {},
   "outputs": [],
   "source": [
    "# Plot sigmoid(z) over a range of values from -10 to 10\n",
    "z = np.arange(-10,11)\n",
    "\n",
    "fig,ax = plt.subplots(1,1,figsize=(5,3))\n",
    "# Plot z vs sigmoid(z)\n",
    "ax.plot(z, sigmoid(z), c=\"b\")\n",
    "\n",
    "ax.set_title(\"Sigmoid function\")\n",
    "ax.set_ylabel('sigmoid(z)')\n",
    "ax.set_xlabel('z')\n",
    "draw_vthresh(ax,0)"
   ]
  },
  {
   "cell_type": "markdown",
   "id": "7b5bea62",
   "metadata": {},
   "source": [
    "* As you can see, $g(z) >= 0.5$ for $z >=0$\n",
    "\n",
    "* For a logistic regression model, $z = \\mathbf{w} \\cdot \\mathbf{x} + b$. Therefore,\n",
    "\n",
    "  if $\\mathbf{w} \\cdot \\mathbf{x} + b >= 0$, the model predicts $y=1$\n",
    "  \n",
    "  if $\\mathbf{w} \\cdot \\mathbf{x} + b < 0$, the model predicts $y=0$\n",
    "  \n",
    "  \n",
    "  \n",
    "### Plotting decision boundary\n",
    "\n",
    "Now, let's go back to our example to understand how the logistic regression model is making predictions.\n",
    "\n",
    "* Our logistic regression model has the form\n",
    "\n",
    "  $f(\\mathbf{x}) = g(-3 + x_0+x_1)$\n",
    "\n",
    "\n",
    "* From what you've learnt above, you can see that this model predicts $y=1$ if $-3 + x_0+x_1 >= 0$\n",
    "\n",
    "Let's see what this looks like graphically. We'll start by plotting $-3 + x_0+x_1 = 0$, which is equivalent to $x_1 = 3 - x_0$.\n"
   ]
  },
  {
   "cell_type": "code",
   "execution_count": null,
   "id": "f3c4a990",
   "metadata": {},
   "outputs": [],
   "source": [
    "# Choose values between 0 and 6\n",
    "x0 = np.arange(0,6)\n",
    "\n",
    "x1 = 3 - x0\n",
    "fig,ax = plt.subplots(1,1,figsize=(5,4))\n",
    "# Plot the decision boundary\n",
    "ax.plot(x0,x1, c=\"b\")\n",
    "ax.axis([0, 4, 0, 3.5])\n",
    "\n",
    "# Fill the region below the line\n",
    "ax.fill_between(x0,x1, alpha=0.2)\n",
    "\n",
    "# Plot the original data\n",
    "plot_data(X,y,ax)\n",
    "ax.set_ylabel(r'$x_1$')\n",
    "ax.set_xlabel(r'$x_0$')\n",
    "plt.show()"
   ]
  },
  {
   "cell_type": "markdown",
   "id": "dbb5b861",
   "metadata": {},
   "source": [
    "* In the plot above, the blue line represents the line $x_0 + x_1 - 3 = 0$ and it should intersect the x1 axis at 3 (if we set $x_1$ = 3, $x_0$ = 0) and the x0 axis at 3 (if we set $x_1$ = 0, $x_0$ = 3). \n",
    "\n",
    "\n",
    "* The shaded region represents $-3 + x_0+x_1 < 0$. The region above the line is $-3 + x_0+x_1 > 0$.\n",
    "\n",
    "\n",
    "* Any point in the shaded region (under the line) is classified as $y=0$.  Any point on or above the line is classified as $y=1$. This line is known as the \"decision boundary\".\n",
    "\n",
    "As we've seen in the lectures, by using higher order polynomial terms (eg: $f(x) = g( x_0^2 + x_1 -1)$, we can come up with more complex non-linear boundaries."
   ]
  },
  {
   "cell_type": "markdown",
   "id": "cfde5655",
   "metadata": {},
   "source": [
    "## Congratulations!\n",
    "You have explored the decision boundary in the context of logistic regression."
   ]
  },
  {
   "cell_type": "code",
   "execution_count": null,
   "id": "40e0932c",
   "metadata": {},
   "outputs": [],
   "source": []
  },
  {
   "cell_type": "code",
   "execution_count": null,
   "id": "a2ef86f2",
   "metadata": {},
   "outputs": [],
   "source": []
  }
 ],
 "metadata": {
  "kernelspec": {
   "display_name": "Python 3 (ipykernel)",
   "language": "python",
   "name": "python3"
  },
  "language_info": {
   "codemirror_mode": {
    "name": "ipython",
    "version": 3
   },
   "file_extension": ".py",
   "mimetype": "text/x-python",
   "name": "python",
   "nbconvert_exporter": "python",
   "pygments_lexer": "ipython3",
   "version": "3.9.6"
  }
 },
 "nbformat": 4,
 "nbformat_minor": 5
}
